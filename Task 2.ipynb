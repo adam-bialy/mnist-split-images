{
 "cells": [
  {
   "cell_type": "code",
   "execution_count": 1,
   "id": "b4354de7",
   "metadata": {},
   "outputs": [],
   "source": [
    "# --------\n",
    "# TASK 2 (ML eng. only)\n",
    "# --------\n",
    "\n",
    "# Imagine the digits in the test set of the MNIST dataset\n",
    "# (http://yann.lecun.com/exdb/mnist/) got cut in half vertically and shuffled\n",
    "# around. Implement a way to restore the original test set from the two halves,\n",
    "# whilst maximising the overall matching accuracy."
   ]
  },
  {
   "cell_type": "code",
   "execution_count": 2,
   "id": "1f6c68cb",
   "metadata": {},
   "outputs": [],
   "source": [
    "import numpy as np\n",
    "import pandas as pd\n",
    "import matplotlib.pyplot as plt\n",
    "import tensorflow as tf\n",
    "import idx2numpy\n",
    "from random import shuffle"
   ]
  },
  {
   "cell_type": "markdown",
   "id": "a1e6c948",
   "metadata": {},
   "source": [
    "### Introduction\n",
    "\n",
    "My approach to this task can be summarized as follows:\n",
    "1. Create a convolutional neural network for recognition of unaltered MNIST written digits.\n",
    "2. Splitting the image into halves.\n",
    "3. Create another network for generating right halves from left halves.\n",
    "4. Splitting and shuffling the test set halves (halves and their labels remain in the same order in resulting data, so that we can check how the accuracy of matching and predictions).\n",
    "5. Re-matching halves and predicting number from the joined images using the original model from point 1."
   ]
  },
  {
   "cell_type": "markdown",
   "id": "6270f2da",
   "metadata": {},
   "source": [
    "### Load the data\n",
    "\n",
    "(please first unzip all of the archives downloaded from the Yann LeCun's website)"
   ]
  },
  {
   "cell_type": "code",
   "execution_count": 3,
   "id": "49054369",
   "metadata": {},
   "outputs": [],
   "source": [
    "X_train = idx2numpy.convert_from_file(\"mnist/train-images-idx3-ubyte\").astype(np.float32)\n",
    "y_train = idx2numpy.convert_from_file(\"mnist/train-labels-idx1-ubyte\").astype(np.float32)\n",
    "X_test = idx2numpy.convert_from_file(\"mnist/t10k-images-idx3-ubyte\").astype(np.float32)\n",
    "y_test = idx2numpy.convert_from_file(\"mnist/t10k-labels-idx1-ubyte\").astype(np.float32)"
   ]
  },
  {
   "cell_type": "code",
   "execution_count": 4,
   "id": "124df7c7",
   "metadata": {},
   "outputs": [],
   "source": [
    "# Make categorical y arrays for the purposes of training\n",
    "y_train_cat = tf.keras.utils.to_categorical(y_train, 10)\n",
    "y_test_cat = tf.keras.utils.to_categorical(y_test, 10)"
   ]
  },
  {
   "cell_type": "code",
   "execution_count": 5,
   "id": "92fae04f",
   "metadata": {},
   "outputs": [],
   "source": [
    "# Normalize\n",
    "X_train = X_train / 255\n",
    "X_test = X_test / 255"
   ]
  },
  {
   "cell_type": "markdown",
   "id": "6f815522",
   "metadata": {},
   "source": [
    "Imports for constructing neural networks"
   ]
  },
  {
   "cell_type": "code",
   "execution_count": 6,
   "id": "4a988fe5",
   "metadata": {},
   "outputs": [],
   "source": [
    "from tensorflow.keras.models import Sequential\n",
    "from tensorflow.keras.layers import Dense, Conv2D, MaxPool2D, Flatten, Dropout, Reshape, Conv2DTranspose, Cropping2D\n",
    "from tensorflow.keras.callbacks import EarlyStopping"
   ]
  },
  {
   "cell_type": "markdown",
   "id": "dcb2bfb1",
   "metadata": {},
   "source": [
    "### Build a model for digit recognition\n",
    "\n",
    "A simple CNN"
   ]
  },
  {
   "cell_type": "code",
   "execution_count": 7,
   "id": "d27d0e1f",
   "metadata": {},
   "outputs": [],
   "source": [
    "def create_model():\n",
    "    model = Sequential()\n",
    "    model.add(Conv2D(50, (3,3), activation=\"relu\", input_shape=(28,28,1)))\n",
    "    model.add(MaxPool2D((2,2)))\n",
    "    model.add(Conv2D(50, (3,3), activation=\"relu\", input_shape=(28,28,1)))\n",
    "    model.add(MaxPool2D((2,2)))\n",
    "    model.add(Flatten())\n",
    "    model.add(Dropout(0.2))\n",
    "    model.add(Dense(10, activation=\"softmax\"))\n",
    "    model.compile(optimizer=\"adam\", loss=\"categorical_crossentropy\", metrics=\"accuracy\")\n",
    "    return model"
   ]
  },
  {
   "cell_type": "code",
   "execution_count": 8,
   "id": "3be93799",
   "metadata": {},
   "outputs": [],
   "source": [
    "model = create_model()"
   ]
  },
  {
   "cell_type": "code",
   "execution_count": 9,
   "id": "7b1a7d85",
   "metadata": {},
   "outputs": [
    {
     "name": "stdout",
     "output_type": "stream",
     "text": [
      "Model: \"sequential\"\n",
      "_________________________________________________________________\n",
      " Layer (type)                Output Shape              Param #   \n",
      "=================================================================\n",
      " conv2d (Conv2D)             (None, 26, 26, 50)        500       \n",
      "                                                                 \n",
      " max_pooling2d (MaxPooling2D  (None, 13, 13, 50)       0         \n",
      " )                                                               \n",
      "                                                                 \n",
      " conv2d_1 (Conv2D)           (None, 11, 11, 50)        22550     \n",
      "                                                                 \n",
      " max_pooling2d_1 (MaxPooling  (None, 5, 5, 50)         0         \n",
      " 2D)                                                             \n",
      "                                                                 \n",
      " flatten (Flatten)           (None, 1250)              0         \n",
      "                                                                 \n",
      " dropout (Dropout)           (None, 1250)              0         \n",
      "                                                                 \n",
      " dense (Dense)               (None, 10)                12510     \n",
      "                                                                 \n",
      "=================================================================\n",
      "Total params: 35,560\n",
      "Trainable params: 35,560\n",
      "Non-trainable params: 0\n",
      "_________________________________________________________________\n"
     ]
    }
   ],
   "source": [
    "model.summary()"
   ]
  },
  {
   "cell_type": "code",
   "execution_count": 10,
   "id": "058f4974",
   "metadata": {},
   "outputs": [],
   "source": [
    "# Early stop callback for training\n",
    "early_stop = EarlyStopping(monitor=\"val_loss\", patience=3)"
   ]
  },
  {
   "cell_type": "markdown",
   "id": "ab37ad95",
   "metadata": {},
   "source": [
    "Training the model"
   ]
  },
  {
   "cell_type": "code",
   "execution_count": 11,
   "id": "9bb87f44",
   "metadata": {},
   "outputs": [
    {
     "name": "stdout",
     "output_type": "stream",
     "text": [
      "Epoch 1/30\n"
     ]
    },
    {
     "name": "stderr",
     "output_type": "stream",
     "text": [
      "2022-06-27 15:38:44.381253: W tensorflow/core/platform/profile_utils/cpu_utils.cc:128] Failed to get CPU frequency: 0 Hz\n"
     ]
    },
    {
     "name": "stdout",
     "output_type": "stream",
     "text": [
      "1875/1875 [==============================] - 18s 10ms/step - loss: 0.1734 - accuracy: 0.9470 - val_loss: 0.0484 - val_accuracy: 0.9861\n",
      "Epoch 2/30\n",
      "1875/1875 [==============================] - 19s 10ms/step - loss: 0.0610 - accuracy: 0.9817 - val_loss: 0.0383 - val_accuracy: 0.9869\n",
      "Epoch 3/30\n",
      "1875/1875 [==============================] - 18s 10ms/step - loss: 0.0465 - accuracy: 0.9857 - val_loss: 0.0328 - val_accuracy: 0.9894\n",
      "Epoch 4/30\n",
      "1875/1875 [==============================] - 18s 10ms/step - loss: 0.0383 - accuracy: 0.9879 - val_loss: 0.0264 - val_accuracy: 0.9907\n",
      "Epoch 5/30\n",
      "1875/1875 [==============================] - 19s 10ms/step - loss: 0.0320 - accuracy: 0.9897 - val_loss: 0.0288 - val_accuracy: 0.9906\n",
      "Epoch 6/30\n",
      "1875/1875 [==============================] - 18s 10ms/step - loss: 0.0274 - accuracy: 0.9911 - val_loss: 0.0305 - val_accuracy: 0.9901\n",
      "Epoch 7/30\n",
      "1875/1875 [==============================] - 18s 10ms/step - loss: 0.0238 - accuracy: 0.9926 - val_loss: 0.0305 - val_accuracy: 0.9908\n"
     ]
    },
    {
     "data": {
      "text/plain": [
       "<keras.callbacks.History at 0x154519ee0>"
      ]
     },
     "execution_count": 11,
     "metadata": {},
     "output_type": "execute_result"
    }
   ],
   "source": [
    "model.fit(X_train.reshape(-1,28,28,1), y_train_cat, epochs=30, \n",
    "          validation_data=[X_test.reshape(-1,28,28,1), y_test_cat],\n",
    "         callbacks=early_stop)"
   ]
  },
  {
   "cell_type": "markdown",
   "id": "bb14f792",
   "metadata": {},
   "source": [
    "Saving the model so that we don't have to train it every time"
   ]
  },
  {
   "cell_type": "code",
   "execution_count": 12,
   "id": "d4810416",
   "metadata": {},
   "outputs": [],
   "source": [
    "model.save(\"task2-model.h5\")"
   ]
  },
  {
   "cell_type": "code",
   "execution_count": 13,
   "id": "495402ab",
   "metadata": {},
   "outputs": [],
   "source": [
    "def predict_number(img):\n",
    "    \"\"\"\n",
    "    Predict number from image (full).\n",
    "    \"\"\"\n",
    "    return model.predict(img.reshape(-1,28,28,1)).argmax()"
   ]
  },
  {
   "cell_type": "markdown",
   "id": "6fa78f5b",
   "metadata": {},
   "source": [
    "### Separation and matching of halves in train and test set"
   ]
  },
  {
   "cell_type": "code",
   "execution_count": 14,
   "id": "e35db63b",
   "metadata": {},
   "outputs": [],
   "source": [
    "# split into halves\n",
    "X_train_left = X_train[:,:,:14]\n",
    "X_train_right = X_train[:,:,14:]\n",
    "X_test_left = X_test[:,:,:14]\n",
    "X_test_right = X_test[:,:,14:]"
   ]
  },
  {
   "cell_type": "markdown",
   "id": "aa5c2f1a",
   "metadata": {},
   "source": [
    "Creating a model for generating right half from left half"
   ]
  },
  {
   "cell_type": "code",
   "execution_count": 15,
   "id": "b8f2e760",
   "metadata": {},
   "outputs": [],
   "source": [
    "def create_half_model():\n",
    "    model = Sequential()\n",
    "    model.add(Conv2D(60, (3, 3), input_shape=(28,14,1), activation=\"relu\", padding=\"same\"))\n",
    "    model.add(MaxPool2D((2, 2), padding=\"same\"))\n",
    "    model.add(Conv2D(60, (3, 3), input_shape=(28,14,1), activation=\"relu\", padding=\"same\"))\n",
    "    model.add(MaxPool2D((2, 2), padding=\"same\"))\n",
    "    model.add(Flatten())\n",
    "    model.add(Dense(25, activation=\"relu\"))\n",
    "    model.add(Dense(1680, activation=\"relu\"))\n",
    "    model.add(Reshape((7,4,60)))\n",
    "    model.add(Conv2DTranspose(60, (3, 3), strides=2, activation=\"relu\", padding=\"same\"))\n",
    "    model.add(Conv2DTranspose(60, (3, 3), strides=2, activation=\"relu\", padding=\"same\"))\n",
    "    model.add(Conv2D(1, (3, 3), activation=\"sigmoid\", padding=\"same\"))\n",
    "    model.add(Cropping2D(cropping=(0, 1)))\n",
    "    model.compile(optimizer=\"adam\", loss=\"mse\", metrics=\"accuracy\")\n",
    "    return model"
   ]
  },
  {
   "cell_type": "code",
   "execution_count": 16,
   "id": "a93ecfff",
   "metadata": {},
   "outputs": [],
   "source": [
    "left_to_right = create_half_model()"
   ]
  },
  {
   "cell_type": "code",
   "execution_count": 17,
   "id": "025ed87c",
   "metadata": {
    "scrolled": true
   },
   "outputs": [
    {
     "name": "stdout",
     "output_type": "stream",
     "text": [
      "Epoch 1/10\n",
      "1875/1875 [==============================] - 37s 20ms/step - loss: 0.0419 - accuracy: 0.7820\n",
      "Epoch 2/10\n",
      "1875/1875 [==============================] - 39s 21ms/step - loss: 0.0317 - accuracy: 0.7858\n",
      "Epoch 3/10\n",
      "1875/1875 [==============================] - 39s 21ms/step - loss: 0.0299 - accuracy: 0.7868\n",
      "Epoch 4/10\n",
      "1875/1875 [==============================] - 39s 21ms/step - loss: 0.0289 - accuracy: 0.7872\n",
      "Epoch 5/10\n",
      "1875/1875 [==============================] - 38s 20ms/step - loss: 0.0283 - accuracy: 0.7876\n",
      "Epoch 6/10\n",
      "1875/1875 [==============================] - 39s 21ms/step - loss: 0.0278 - accuracy: 0.7878\n",
      "Epoch 7/10\n",
      "1875/1875 [==============================] - 39s 21ms/step - loss: 0.0274 - accuracy: 0.7880\n",
      "Epoch 8/10\n",
      "1875/1875 [==============================] - 39s 21ms/step - loss: 0.0270 - accuracy: 0.7882\n",
      "Epoch 9/10\n",
      "1875/1875 [==============================] - 38s 20ms/step - loss: 0.0267 - accuracy: 0.7883\n",
      "Epoch 10/10\n",
      "1875/1875 [==============================] - 39s 21ms/step - loss: 0.0264 - accuracy: 0.7885\n"
     ]
    },
    {
     "data": {
      "text/plain": [
       "<keras.callbacks.History at 0x15c83f610>"
      ]
     },
     "execution_count": 17,
     "metadata": {},
     "output_type": "execute_result"
    }
   ],
   "source": [
    "left_to_right.fit(X_train_left.reshape(-1,28,14,1), X_train_right.reshape(-1,28,14,1), epochs=10)"
   ]
  },
  {
   "cell_type": "code",
   "execution_count": 18,
   "id": "e513e823",
   "metadata": {},
   "outputs": [],
   "source": [
    "left_to_right.save(\"task2-l2r.h5\")"
   ]
  },
  {
   "cell_type": "markdown",
   "id": "c4a5b0b6",
   "metadata": {},
   "source": [
    "Let's see how it works"
   ]
  },
  {
   "cell_type": "code",
   "execution_count": 19,
   "id": "8ed2d497",
   "metadata": {},
   "outputs": [],
   "source": [
    "sample = 51"
   ]
  },
  {
   "cell_type": "code",
   "execution_count": 20,
   "id": "337ddcb3",
   "metadata": {},
   "outputs": [
    {
     "data": {
      "text/plain": [
       "<matplotlib.image.AxesImage at 0x1627f9460>"
      ]
     },
     "execution_count": 20,
     "metadata": {},
     "output_type": "execute_result"
    },
    {
     "data": {
      "image/png": "[encoded data removed]",
      "text/plain": [
       "<Figure size 432x288 with 1 Axes>"
      ]
     },
     "metadata": {
      "needs_background": "light"
     },
     "output_type": "display_data"
    }
   ],
   "source": [
    "plt.imshow(X_test_left[sample])"
   ]
  },
  {
   "cell_type": "code",
   "execution_count": 21,
   "id": "df5810c2",
   "metadata": {},
   "outputs": [],
   "source": [
    "def predict(half):\n",
    "    \"\"\"\n",
    "    Generate right half from left half.\n",
    "    \"\"\"\n",
    "    input_array = half.reshape(-1,28,14,1)\n",
    "    return left_to_right.predict(input_array).reshape(28,14)"
   ]
  },
  {
   "cell_type": "code",
   "execution_count": 22,
   "id": "2c3e8e6c",
   "metadata": {},
   "outputs": [
    {
     "data": {
      "text/plain": [
       "<matplotlib.image.AxesImage at 0x1629cb700>"
      ]
     },
     "execution_count": 22,
     "metadata": {},
     "output_type": "execute_result"
    },
    {
     "data": {
      "image/png": "[encoded data removed]",
      "text/plain": [
       "<Figure size 432x288 with 1 Axes>"
      ]
     },
     "metadata": {
      "needs_background": "light"
     },
     "output_type": "display_data"
    }
   ],
   "source": [
    "plt.imshow(predict(X_test_left[sample]))"
   ]
  },
  {
   "cell_type": "code",
   "execution_count": 23,
   "id": "1695f415",
   "metadata": {},
   "outputs": [
    {
     "data": {
      "text/plain": [
       "<matplotlib.image.AxesImage at 0x162a32670>"
      ]
     },
     "execution_count": 23,
     "metadata": {},
     "output_type": "execute_result"
    },
    {
     "data": {
      "image/png": "[encoded data removed]",
      "text/plain": [
       "<Figure size 432x288 with 1 Axes>"
      ]
     },
     "metadata": {
      "needs_background": "light"
     },
     "output_type": "display_data"
    }
   ],
   "source": [
    "plt.imshow(X_test_right[sample])"
   ]
  },
  {
   "cell_type": "markdown",
   "id": "177e2030",
   "metadata": {},
   "source": [
    "Visually, it does a decent job."
   ]
  },
  {
   "cell_type": "markdown",
   "id": "13d6d7bb",
   "metadata": {},
   "source": [
    "Now we merge and shuffle the halves into a new set with 10000 * 2 elements.\n",
    "\n",
    "Labels remain ordered the same way as halves so that we can check the results."
   ]
  },
  {
   "cell_type": "code",
   "execution_count": 24,
   "id": "6236a173",
   "metadata": {},
   "outputs": [],
   "source": [
    "shuffled_x_test = np.concatenate([X_test_left.copy(), X_test_right.copy()], 0)\n",
    "shuffled_y_test = np.concatenate([y_test.copy(), y_test.copy()], 0)\n",
    "indices = list(range(20000))\n",
    "shuffle(indices)\n",
    "shuffled_x_test = shuffled_x_test[indices]\n",
    "shuffled_y_test = shuffled_y_test[indices]"
   ]
  },
  {
   "cell_type": "markdown",
   "id": "7c72c868",
   "metadata": {},
   "source": [
    "And here I create classes for re-matching the halves.\n",
    "\n",
    "In my approach, I do not remove the matched right halves from the pool. This means that some new images will have identical right halves, while some right halves will not be used. I found that this leads to better overall agreement between original labels and new predictions."
   ]
  },
  {
   "cell_type": "code",
   "execution_count": 25,
   "id": "63e46b2f",
   "metadata": {},
   "outputs": [],
   "source": [
    "def predict(half):\n",
    "    \"\"\"\n",
    "    Generate right half from left half.\n",
    "    \"\"\"\n",
    "    input_array = half.reshape(-1,28,14,1)\n",
    "    return left_to_right.predict(input_array).reshape(28,14)\n",
    "\n",
    "\n",
    "def check_im_match(pred, test):\n",
    "    \"\"\"\n",
    "    Evaluate the extent to which two image halves match (simple RMSE).\n",
    "    \"\"\"\n",
    "    dist = test - (pred / test.max())\n",
    "    return np.sqrt((dist**2).sum(-1).sum(-1))\n",
    "\n",
    "\n",
    "def which_half(half):\n",
    "    \"\"\"\n",
    "    Function to determine whether the given half is left or right.\n",
    "    Density of pixel brightness on each side of a given half-array is evaluated.\n",
    "    \"\"\"\n",
    "    left_side = half[:,:3].sum()\n",
    "    right_side = half[:,-3:].sum()\n",
    "    if left_side > right_side:\n",
    "        return \"right\"\n",
    "    else:\n",
    "        return \"left\"\n",
    "\n",
    "\n",
    "class SeparateTestHalves:\n",
    "    \"\"\"\n",
    "    Class for separating the shuffled data into left and right halves.\n",
    "    \"\"\"\n",
    "    \n",
    "    def __init__(self, x, y):\n",
    "        self.x = x\n",
    "        self.y = y\n",
    "        self.left_x, self.right_x, self.left_y, self.right_y = self.get_halves()\n",
    "    \n",
    "    def get_halves(self):\n",
    "        halves_filter = np.array([which_half(half) for half in self.x])\n",
    "        leftind = np.argwhere(halves_filter == \"left\")\n",
    "        rightind = np.argwhere(halves_filter == \"right\")\n",
    "        left_x = self.x[leftind].reshape(-1,28,14)\n",
    "        right_x = self.x[rightind].reshape(-1,28,14)\n",
    "        left_y = self.y[leftind].reshape(-1)\n",
    "        right_y = self.y[rightind].reshape(-1)\n",
    "        return left_x, right_x, left_y, right_y\n",
    "\n",
    "\n",
    "class MatchTestHalves(SeparateTestHalves):\n",
    "    \"\"\"\n",
    "    Extension of the separating class, with match method for joining the halves\n",
    "    and evaluating accuracy of joining halves and of predictions from joined images.\n",
    "    \"\"\"\n",
    "    \n",
    "    def match(self):\n",
    "        \"\"\"\n",
    "        Returns a list of tuples like so:\n",
    "        (merged img, left half label, right half label, new predicted label)\n",
    "        \"\"\"\n",
    "        matches = []\n",
    "        for n in range(self.left_x.shape[0]):\n",
    "            left = self.left_x[n]\n",
    "            prediction = predict(left)\n",
    "            scores = check_im_match(prediction, self.right_x)\n",
    "            match_ind = np.argwhere(scores == scores.min())\n",
    "            joined_img = np.concatenate([left, self.right_x[match_ind].reshape(28,14)],1)\n",
    "            left_label = self.left_y[n]\n",
    "            right_label = self.right_y[match_ind].sum() # sum is here to extract the scalar\n",
    "            prediction = predict_number(joined_img)\n",
    "            matches.append((joined_img, left_label, right_label, prediction))\n",
    "        \n",
    "        return matches"
   ]
  },
  {
   "cell_type": "code",
   "execution_count": 26,
   "id": "a20dcae5",
   "metadata": {},
   "outputs": [],
   "source": [
    "halves = MatchTestHalves(shuffled_x_test, shuffled_y_test)"
   ]
  },
  {
   "cell_type": "code",
   "execution_count": 27,
   "id": "81d3420b",
   "metadata": {},
   "outputs": [],
   "source": [
    "matched_imgs = halves.match()"
   ]
  },
  {
   "cell_type": "markdown",
   "id": "b7618231",
   "metadata": {},
   "source": [
    "This took 8 minutes on my machine (2020 MacBook Pro M1), which is certainly not ideal."
   ]
  },
  {
   "cell_type": "code",
   "execution_count": 53,
   "id": "6b47e547",
   "metadata": {},
   "outputs": [],
   "source": [
    "sample = matched_imgs[0]"
   ]
  },
  {
   "cell_type": "code",
   "execution_count": 54,
   "id": "715a7d02",
   "metadata": {},
   "outputs": [
    {
     "data": {
      "text/plain": [
       "<matplotlib.image.AxesImage at 0x29b09cd30>"
      ]
     },
     "execution_count": 54,
     "metadata": {},
     "output_type": "execute_result"
    },
    {
     "data": {
      "image/png": "[encoded data removed]",
      "text/plain": [
       "<Figure size 432x288 with 1 Axes>"
      ]
     },
     "metadata": {
      "needs_background": "light"
     },
     "output_type": "display_data"
    }
   ],
   "source": [
    "plt.imshow(sample[0])"
   ]
  },
  {
   "cell_type": "markdown",
   "id": "7e75e729",
   "metadata": {},
   "source": [
    "#### Original test set accuracy from the model trained at the beginning"
   ]
  },
  {
   "cell_type": "code",
   "execution_count": 55,
   "id": "01894676",
   "metadata": {},
   "outputs": [
    {
     "data": {
      "text/plain": [
       "0.9908"
      ]
     },
     "execution_count": 55,
     "metadata": {},
     "output_type": "execute_result"
    }
   ],
   "source": [
    "original_test_predictions = model.predict(X_test.reshape(-1,28,28,1)).argmax(1)\n",
    "(original_test_predictions == y_test).mean()"
   ]
  },
  {
   "cell_type": "code",
   "execution_count": 56,
   "id": "e557dbde",
   "metadata": {},
   "outputs": [
    {
     "data": {
      "text/plain": [
       "0.9908"
      ]
     },
     "execution_count": 56,
     "metadata": {},
     "output_type": "execute_result"
    }
   ],
   "source": [
    "(original_test_predictions == y_test).mean()"
   ]
  },
  {
   "cell_type": "markdown",
   "id": "f32c37e3",
   "metadata": {},
   "source": [
    "#### Agreeement between labels of left and right halves"
   ]
  },
  {
   "cell_type": "code",
   "execution_count": 57,
   "id": "da966fd8",
   "metadata": {},
   "outputs": [
    {
     "data": {
      "text/plain": [
       "0.8916"
      ]
     },
     "execution_count": 57,
     "metadata": {},
     "output_type": "execute_result"
    }
   ],
   "source": [
    "halves_label_match = np.array([img[1] == img[2] for img in matched_imgs])\n",
    "halves_label_match.mean()"
   ]
  },
  {
   "cell_type": "markdown",
   "id": "9cb9133d",
   "metadata": {},
   "source": [
    "#### Agreement between left side label and prediction from re-joined image"
   ]
  },
  {
   "cell_type": "code",
   "execution_count": 58,
   "id": "d959bcef",
   "metadata": {},
   "outputs": [
    {
     "data": {
      "text/plain": [
       "0.9518"
      ]
     },
     "execution_count": 58,
     "metadata": {},
     "output_type": "execute_result"
    }
   ],
   "source": [
    "pred_label_match = np.array([img[1] == img[3] for img in matched_imgs])\n",
    "pred_label_match.mean()"
   ]
  },
  {
   "cell_type": "markdown",
   "id": "7a2df11a",
   "metadata": {},
   "source": [
    "### Summary\n",
    "\n",
    "Overall the test set is recreated, although not quite accurately. I think the match between labels of left and right sides is less important than the agreement between original left side labels and the labels predicted from the regenerated image. That is because ultimately we are interested in the recovery of the test set.\n",
    "Room for improvement:\n",
    "- finding a better method for evaluating similarity between predicted and matches halves;\n",
    "- better scaling of the matching process - 7 minutes is, I think, quite a long time for processing 10000 datapoints, although the splitting into halves is a destructive process, so recovery of the information is not that easy;\n",
    "- a better model for recognition of entire digits can certainly be constructed, but I decided not to focus on that here"
   ]
  },
  {
   "cell_type": "code",
   "execution_count": null,
   "id": "9f3abac8",
   "metadata": {},
   "outputs": [],
   "source": []
  }
 ],
 "metadata": {
  "kernelspec": {
   "display_name": "Python 3 (ipykernel)",
   "language": "python",
   "name": "python3"
  },
  "language_info": {
   "codemirror_mode": {
    "name": "ipython",
    "version": 3
   },
   "file_extension": ".py",
   "mimetype": "text/x-python",
   "name": "python",
   "nbconvert_exporter": "python",
   "pygments_lexer": "ipython3",
   "version": "3.9.10"
  }
 },
 "nbformat": 4,
 "nbformat_minor": 5
}
